{
  "nbformat": 4,
  "nbformat_minor": 0,
  "metadata": {
    "colab": {
      "provenance": []
    },
    "kernelspec": {
      "name": "python3",
      "display_name": "Python 3"
    },
    "language_info": {
      "name": "python"
    }
  },
  "cells": [
    {
      "cell_type": "code",
      "execution_count": 2,
      "metadata": {
        "id": "oZ_XOhFH1Q9O"
      },
      "outputs": [],
      "source": [
        "import re\n",
        "from collections import Counter\n"
      ]
    },
    {
      "cell_type": "code",
      "source": [
        "def words(text): return re.findall(r'\\w+', text.lower())\n",
        "WORDS = Counter(words(open('/content/big.txt').read()))"
      ],
      "metadata": {
        "id": "2c8LyWjF3lEk"
      },
      "execution_count": 4,
      "outputs": []
    },
    {
      "cell_type": "code",
      "source": [
        "def P(c, word, N=sum(WORDS.values())):\n",
        "  \"Probability of a `word` .\"\n",
        "  return P_word(c,N)*P_error(word,c)\n",
        "\n",
        "def P_word(c, N=sum(WORDS.values())):\n",
        "  return WORDS[c] / N if c in WORDS else 1e-6\n",
        "\n",
        "def P_error(word,c):\n",
        "  edit_distance = levenshtein_distance(word,c)\n",
        "\n",
        "  if edit_distance == 0:\n",
        "    return 1\n",
        "\n",
        "  elif edit_distance == 1:\n",
        "    return 0.1\n",
        "\n",
        "  elif edit_distance == 2:\n",
        "    return 0.01\n",
        "\n",
        "  else:\n",
        "    return 0"
      ],
      "metadata": {
        "id": "Y3ZrQ-B-4jY3"
      },
      "execution_count": 7,
      "outputs": []
    },
    {
      "cell_type": "code",
      "source": [
        "def correction(word):\n",
        "  return max(candidates(word), key=lambda c: P(c,word))\n",
        "\n",
        "def candidates(word):\n",
        "  return (known([word]) or known(edits1(word)) or known(edits2(word)) or [word])\n",
        "\n",
        "def known(words):\n",
        "  return set(w for w in words if w in WORDS)"
      ],
      "metadata": {
        "id": "HvPF-IPV7edS"
      },
      "execution_count": 8,
      "outputs": []
    },
    {
      "cell_type": "code",
      "source": [
        "def edits1(word):\n",
        "  letters = 'abcdefghijklmnopqrstuvwxyz'\n",
        "  splits = [(word[:i],word[i:]) for i in range(len(word)+1)]\n",
        "  deletes = [L+R[1:] for L,R in splits if R]\n",
        "  transposes = [L+R[1]+R[0]+R[2:] for L,R in splits if len(R)>1]\n",
        "  replaces = [L+c+R[1:] for L,R in splits if R for c in letters]\n",
        "  inserts = [L+c+R for L,R in splits for c in letters]\n",
        "  return set(deletes + transposes + replaces + inserts)\n",
        "\n",
        "def edits2(word):\n",
        "  return (e2 for e1 in edits1(word) for e2 in edits1(e1))\n",
        "\n",
        "def levenshtein_distance(a, b):\n",
        "  n,m = len(a), len(b)\n",
        "  if n == 0:return m\n",
        "  if m == 0:return n\n",
        "\n",
        "  dp = [[0]*(m+1) for _ in range(n+1)]\n",
        "\n",
        "  for i in range(n+1):\n",
        "    dp[i][0]=i\n",
        "  for j in range(m+1):\n",
        "    dp[0][j]=j\n",
        "  for i in range(1,n+1):\n",
        "    for j in range(1,m+1):\n",
        "      cost = 0 if a[i-1]==b[j-1]else 1\n",
        "      dp[i][j]=min(dp[i-1][j]+1, dp[i][j-1]+1, dp[i-1][j-1]+cost)\n",
        "  return dp[n][m]"
      ],
      "metadata": {
        "id": "HfRC_ISn8vQn"
      },
      "execution_count": 11,
      "outputs": []
    },
    {
      "cell_type": "code",
      "source": [
        "correction('speling')"
      ],
      "metadata": {
        "colab": {
          "base_uri": "https://localhost:8080/",
          "height": 35
        },
        "id": "C9lUeUoUCEQH",
        "outputId": "9ae4b3c0-7dc2-4b77-8c2f-57415557e127"
      },
      "execution_count": 13,
      "outputs": [
        {
          "output_type": "execute_result",
          "data": {
            "text/plain": [
              "'spelling'"
            ],
            "application/vnd.google.colaboratory.intrinsic+json": {
              "type": "string"
            }
          },
          "metadata": {},
          "execution_count": 13
        }
      ]
    },
    {
      "cell_type": "code",
      "source": [
        "correction('fesjn')"
      ],
      "metadata": {
        "colab": {
          "base_uri": "https://localhost:8080/",
          "height": 35
        },
        "id": "9PqgUL8SCbrr",
        "outputId": "6289e8f1-e592-46e9-c328-c8ab0736f30b"
      },
      "execution_count": 14,
      "outputs": [
        {
          "output_type": "execute_result",
          "data": {
            "text/plain": [
              "'resin'"
            ],
            "application/vnd.google.colaboratory.intrinsic+json": {
              "type": "string"
            }
          },
          "metadata": {},
          "execution_count": 14
        }
      ]
    },
    {
      "cell_type": "code",
      "source": [],
      "metadata": {
        "id": "6J2Q-NqFHtnr"
      },
      "execution_count": null,
      "outputs": []
    }
  ]
}